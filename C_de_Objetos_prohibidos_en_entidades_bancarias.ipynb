{
  "nbformat": 4,
  "nbformat_minor": 0,
  "metadata": {
    "accelerator": "GPU",
    "colab": {
      "name": "C de Objetos prohibidos en entidades bancarias",
      "provenance": [],
      "collapsed_sections": [],
      "include_colab_link": true
    },
    "kernelspec": {
      "display_name": "Python 3",
      "name": "python3"
    }
  },
  "cells": [
    {
      "cell_type": "markdown",
      "metadata": {
        "id": "view-in-github",
        "colab_type": "text"
      },
      "source": [
        "<a href=\"https://colab.research.google.com/github/JoshDrck/red-neuronal/blob/master/C_de_Objetos_prohibidos_en_entidades_bancarias.ipynb\" target=\"_parent\"><img src=\"https://colab.research.google.com/assets/colab-badge.svg\" alt=\"Open In Colab\"/></a>"
      ]
    },
    {
      "cell_type": "code",
      "metadata": {
        "id": "BzfsRBA9I9bx",
        "colab": {
          "base_uri": "https://localhost:8080/"
        },
        "outputId": "5e4582b1-d2eb-4917-ba06-0e46eaed6ce7"
      },
      "source": [
        "from google.colab import drive\n",
        "drive.mount('/content/drive')"
      ],
      "execution_count": null,
      "outputs": [
        {
          "output_type": "stream",
          "name": "stdout",
          "text": [
            "Drive already mounted at /content/drive; to attempt to forcibly remount, call drive.mount(\"/content/drive\", force_remount=True).\n"
          ]
        }
      ]
    },
    {
      "cell_type": "code",
      "metadata": {
        "id": "in3OdvpUG_9_",
        "colab": {
          "base_uri": "https://localhost:8080/"
        },
        "outputId": "cb9a73b9-aebb-4765-9c25-dc488db84ea3"
      },
      "source": [
        "import tensorflow as tf\n",
        "from tensorflow.keras.preprocessing.image import ImageDataGenerator\n",
        "import os\n",
        "import numpy as np\n",
        "import matplotlib.pyplot as plt\n",
        "\n",
        "#Carga de datos\n",
        "print(\"Cargando carpeta con los datos\")\n",
        "carpeta = '/content/drive/MyDrive/7. Portafolios - Septimo \"A\" - 2021D1/Inteligencia de Negocios - IN/Red neuronal/objetos_prohibidos'\n",
        "\n",
        "#Variables para rutas en disco\n",
        "carpeta_base = os.path.join(os.path.dirname(carpeta), 'objetos_prohibidos')\n",
        "carpeta_entrenamiento = os.path.join(carpeta_base, 'train')\n",
        "carpeta_validacion = os.path.join(carpeta_base, 'validation')\n",
        "\n",
        "carpeta_entren_cuchillos = os.path.join(carpeta_entrenamiento, 'cuchillos')  # imagenes de cuchillos para pruebas\n",
        "carpeta_entren_gorras = os.path.join(carpeta_entrenamiento, 'gorras')  # imagenes de gorras para pruebas\n",
        "carpeta_entren_mascotas = os.path.join(carpeta_entrenamiento, 'mascotas')  # imagenes de mascotas para pruebas\n",
        "carpeta_entren_pistolas = os.path.join(carpeta_entrenamiento, 'pistolas')  # imagenes de pistolas para pruebas\n",
        "\n",
        "carpeta_val_cuchillos = os.path.join(carpeta_validacion, 'cuchillos')  # imagenes de cuchillos para validacion\n",
        "carpeta_val_gorras = os.path.join(carpeta_validacion, 'gorras')  # imagenes de gorras para validacion\n",
        "carpeta_val_mascotas = os.path.join(carpeta_validacion, 'mascotas')  # imagenes de mascotas para validacion\n",
        "carpeta_val_pistolas = os.path.join(carpeta_validacion, 'pistolas')  # imagenes de pistolas para validacion\n",
        "\n",
        "print(\"Carga Lista\")"
      ],
      "execution_count": null,
      "outputs": [
        {
          "output_type": "stream",
          "name": "stdout",
          "text": [
            "Cargando carpeta con los datos\n",
            "Carga Lista\n"
          ]
        }
      ]
    },
    {
      "cell_type": "code",
      "metadata": {
        "id": "4bp7qPOzi3LM",
        "colab": {
          "base_uri": "https://localhost:8080/"
        },
        "outputId": "56c9f100-adea-4de0-be96-3bdb2f480304"
      },
      "source": [
        "#Guardar el numero de datos de entrenamiento para cada objeto\n",
        "num_cuchillos_entren = len(os.listdir(carpeta_entren_cuchillos))\n",
        "num_gorras_entren = len(os.listdir(carpeta_entren_gorras))\n",
        "num_mascotas_entren = len(os.listdir(carpeta_entren_mascotas))\n",
        "num_pistolas_entren = len(os.listdir(carpeta_entren_pistolas))\n",
        "\n",
        "num_cuchillos_val = len(os.listdir(carpeta_val_cuchillos))\n",
        "num_gorras_val = len(os.listdir(carpeta_val_gorras))\n",
        "num_mascotas_val = len(os.listdir(carpeta_val_mascotas))\n",
        "num_pistolas_val = len(os.listdir(carpeta_val_pistolas))\n",
        "\n",
        "total_entrenamiento = num_cuchillos_entren + num_gorras_entren + num_mascotas_entren + num_pistolas_entren\n",
        "total_val = num_cuchillos_val + num_gorras_val + num_mascotas_val + num_pistolas_val\n",
        "\n",
        "TAMANO_LOTE = 100\n",
        "TAMANO_IMG = 150\n",
        "print(\"Datos guardados\")"
      ],
      "execution_count": null,
      "outputs": [
        {
          "output_type": "stream",
          "name": "stdout",
          "text": [
            "Datos guardados\n"
          ]
        }
      ]
    },
    {
      "cell_type": "code",
      "metadata": {
        "colab": {
          "base_uri": "https://localhost:8080/"
        },
        "id": "vj5hWpDcmAYi",
        "outputId": "92085b6c-6402-4d79-977f-4006d4a36dd2"
      },
      "source": [
        "#Aumento de datos (escala, rotacion, entro otros detalles)\n",
        "print(\"Realizando aumento de datos\")\n",
        "image_gen_entrenamiento = ImageDataGenerator(\n",
        "      rescale=1./255,\n",
        "      rotation_range=40,\n",
        "      width_shift_range=0.2,\n",
        "      height_shift_range=0.2,\n",
        "      shear_range=0.2,\n",
        "      zoom_range=0.2,\n",
        "      horizontal_flip=True,\n",
        "      fill_mode='nearest')\n",
        "\n",
        "#Generacion de datos de entrenamiento FTW\n",
        "data_gen_entrenamiento = image_gen_entrenamiento.flow_from_directory(batch_size=TAMANO_LOTE,\n",
        "                                                     directory=carpeta_entrenamiento,\n",
        "                                                     shuffle=True,\n",
        "                                                     target_size=(TAMANO_IMG,TAMANO_IMG),\n",
        "                                                     class_mode='categorical')\n",
        "\n",
        "#Generacion de datos de validacion\n",
        "image_gen_val = ImageDataGenerator(rescale=1./255)\n",
        "\n",
        "data_gen_validacion = image_gen_val.flow_from_directory(batch_size=TAMANO_LOTE,\n",
        "                                                 directory=carpeta_validacion,\n",
        "                                                 target_size=(TAMANO_IMG, TAMANO_IMG),\n",
        "                                                 class_mode='categorical')\n",
        "\n",
        "#Creación del modelo\n",
        "modelo = tf.keras.models.Sequential([\n",
        "    tf.keras.layers.Conv2D(32, (3,3), activation='relu', input_shape=(150, 150, 3)),\n",
        "    tf.keras.layers.MaxPooling2D(2, 2),\n",
        "\n",
        "    tf.keras.layers.Conv2D(64, (3,3), activation='relu'),\n",
        "    tf.keras.layers.MaxPooling2D(2,2),\n",
        "\n",
        "    tf.keras.layers.Conv2D(128, (3,3), activation='relu'),\n",
        "    tf.keras.layers.MaxPooling2D(2,2),\n",
        "\n",
        "    tf.keras.layers.Conv2D(128, (3,3), activation='relu'),\n",
        "    tf.keras.layers.MaxPooling2D(2,2),\n",
        "\n",
        "    tf.keras.layers.Dropout(0.5),\n",
        "    tf.keras.layers.Flatten(),\n",
        "    tf.keras.layers.Dense(128, activation='relu'),\n",
        "    tf.keras.layers.Dense(4, activation='softmax')\n",
        "])\n"
      ],
      "execution_count": null,
      "outputs": [
        {
          "output_type": "stream",
          "name": "stdout",
          "text": [
            "Realizando aumento de datos\n",
            "Found 4304 images belonging to 4 classes.\n",
            "Found 2299 images belonging to 4 classes.\n"
          ]
        }
      ]
    },
    {
      "cell_type": "code",
      "metadata": {
        "colab": {
          "base_uri": "https://localhost:8080/"
        },
        "id": "JEfwzoVrd9ms",
        "outputId": "2ecdc9f7-458a-411c-a725-cccc2674a6ad"
      },
      "source": [
        "#Compilación\n",
        "modelo.compile(optimizer='adam',\n",
        "              loss='categorical_crossentropy',\n",
        "              metrics=['accuracy'])\n",
        "\n",
        "#Entrenar la red\n",
        "print(\"Entrenando modelo...\");\n",
        "epocas=60\n",
        "history = modelo.fit(\n",
        "    data_gen_entrenamiento,\n",
        "    steps_per_epoch=int(np.ceil(total_entrenamiento / float(TAMANO_LOTE))),\n",
        "    epochs=epocas,\n",
        "    validation_data=data_gen_validacion,\n",
        "    validation_steps=6000\n",
        ")\n",
        "\n",
        "print(\"Modelo entrenado!\");"
      ],
      "execution_count": null,
      "outputs": [
        {
          "output_type": "stream",
          "name": "stdout",
          "text": [
            "Entrenando modelo...\n",
            "Epoch 1/60\n",
            "44/44 [==============================] - ETA: 0s - loss: 1.2046 - accuracy: 0.4828 WARNING:tensorflow:Your input ran out of data; interrupting training. Make sure that your dataset or generator can generate at least `steps_per_epoch * epochs` batches (in this case, 6000 batches). You may need to use the repeat() function when building your dataset.\n",
            "44/44 [==============================] - 1283s 29s/step - loss: 1.2046 - accuracy: 0.4828 - val_loss: 1.3286 - val_accuracy: 0.5076\n",
            "Epoch 2/60\n",
            "44/44 [==============================] - 40s 917ms/step - loss: 1.0210 - accuracy: 0.5809\n",
            "Epoch 3/60\n",
            "44/44 [==============================] - 40s 898ms/step - loss: 0.9237 - accuracy: 0.6334\n",
            "Epoch 4/60\n",
            "44/44 [==============================] - 40s 896ms/step - loss: 0.8874 - accuracy: 0.6533\n",
            "Epoch 5/60\n",
            "44/44 [==============================] - 40s 908ms/step - loss: 0.8749 - accuracy: 0.6661\n",
            "Epoch 6/60\n",
            "44/44 [==============================] - 40s 899ms/step - loss: 0.8321 - accuracy: 0.6891\n",
            "Epoch 7/60\n",
            "44/44 [==============================] - 40s 901ms/step - loss: 0.8735 - accuracy: 0.6638\n",
            "Epoch 8/60\n",
            "44/44 [==============================] - 40s 901ms/step - loss: 0.8346 - accuracy: 0.6803\n",
            "Epoch 9/60\n",
            "44/44 [==============================] - 40s 903ms/step - loss: 0.8058 - accuracy: 0.6928\n",
            "Epoch 10/60\n",
            "44/44 [==============================] - 40s 902ms/step - loss: 0.7857 - accuracy: 0.7010\n",
            "Epoch 11/60\n",
            "44/44 [==============================] - 40s 906ms/step - loss: 0.7694 - accuracy: 0.7096\n",
            "Epoch 12/60\n",
            "44/44 [==============================] - 40s 911ms/step - loss: 0.7191 - accuracy: 0.7368\n",
            "Epoch 13/60\n",
            "44/44 [==============================] - 40s 913ms/step - loss: 0.7243 - accuracy: 0.7337\n",
            "Epoch 14/60\n",
            "44/44 [==============================] - 40s 904ms/step - loss: 0.7072 - accuracy: 0.7314\n",
            "Epoch 15/60\n",
            "44/44 [==============================] - 40s 903ms/step - loss: 0.6568 - accuracy: 0.7553\n",
            "Epoch 16/60\n",
            "44/44 [==============================] - 39s 884ms/step - loss: 0.6247 - accuracy: 0.7679\n",
            "Epoch 17/60\n",
            "44/44 [==============================] - 41s 918ms/step - loss: 0.6153 - accuracy: 0.7730\n",
            "Epoch 18/60\n",
            "44/44 [==============================] - 41s 925ms/step - loss: 0.6126 - accuracy: 0.7716\n",
            "Epoch 19/60\n",
            "44/44 [==============================] - 39s 893ms/step - loss: 0.6167 - accuracy: 0.7751\n",
            "Epoch 20/60\n",
            "44/44 [==============================] - 39s 886ms/step - loss: 0.5863 - accuracy: 0.7874\n",
            "Epoch 21/60\n",
            "44/44 [==============================] - 39s 889ms/step - loss: 0.5754 - accuracy: 0.7832\n",
            "Epoch 22/60\n",
            "44/44 [==============================] - 40s 903ms/step - loss: 0.5269 - accuracy: 0.8074\n",
            "Epoch 23/60\n",
            "44/44 [==============================] - 40s 901ms/step - loss: 0.5497 - accuracy: 0.8032\n",
            "Epoch 24/60\n",
            "44/44 [==============================] - 40s 900ms/step - loss: 0.5531 - accuracy: 0.7946\n",
            "Epoch 25/60\n",
            "44/44 [==============================] - 40s 904ms/step - loss: 0.5663 - accuracy: 0.7862\n",
            "Epoch 26/60\n",
            "44/44 [==============================] - 39s 894ms/step - loss: 0.4979 - accuracy: 0.8209\n",
            "Epoch 27/60\n",
            "44/44 [==============================] - 39s 891ms/step - loss: 0.4923 - accuracy: 0.8148\n",
            "Epoch 28/60\n",
            "44/44 [==============================] - 40s 917ms/step - loss: 0.4832 - accuracy: 0.8264\n",
            "Epoch 29/60\n",
            "44/44 [==============================] - 40s 911ms/step - loss: 0.4708 - accuracy: 0.8306\n",
            "Epoch 30/60\n",
            "44/44 [==============================] - 39s 894ms/step - loss: 0.4525 - accuracy: 0.8395\n",
            "Epoch 31/60\n",
            "44/44 [==============================] - 40s 901ms/step - loss: 0.5725 - accuracy: 0.7907\n",
            "Epoch 32/60\n",
            "44/44 [==============================] - 40s 903ms/step - loss: 0.5222 - accuracy: 0.8097\n",
            "Epoch 33/60\n",
            "44/44 [==============================] - 40s 902ms/step - loss: 0.4516 - accuracy: 0.8374\n",
            "Epoch 34/60\n",
            "44/44 [==============================] - 40s 896ms/step - loss: 0.4284 - accuracy: 0.8429\n",
            "Epoch 35/60\n",
            "44/44 [==============================] - 40s 896ms/step - loss: 0.4640 - accuracy: 0.8290\n",
            "Epoch 36/60\n",
            "44/44 [==============================] - 40s 901ms/step - loss: 0.4333 - accuracy: 0.8462\n",
            "Epoch 37/60\n",
            "44/44 [==============================] - 40s 897ms/step - loss: 0.4274 - accuracy: 0.8550\n",
            "Epoch 38/60\n",
            "44/44 [==============================] - 39s 892ms/step - loss: 0.4593 - accuracy: 0.8297\n",
            "Epoch 39/60\n",
            "44/44 [==============================] - 39s 892ms/step - loss: 0.4085 - accuracy: 0.8548\n",
            "Epoch 40/60\n",
            "44/44 [==============================] - 39s 889ms/step - loss: 0.3875 - accuracy: 0.8601\n",
            "Epoch 41/60\n",
            "44/44 [==============================] - 39s 894ms/step - loss: 0.3739 - accuracy: 0.8636\n",
            "Epoch 42/60\n",
            "44/44 [==============================] - 40s 902ms/step - loss: 0.3834 - accuracy: 0.8622\n",
            "Epoch 43/60\n",
            "44/44 [==============================] - 40s 900ms/step - loss: 0.4071 - accuracy: 0.8487\n",
            "Epoch 44/60\n",
            "44/44 [==============================] - 40s 899ms/step - loss: 0.4034 - accuracy: 0.8585\n",
            "Epoch 45/60\n",
            "44/44 [==============================] - 39s 891ms/step - loss: 0.3831 - accuracy: 0.8618\n",
            "Epoch 46/60\n",
            "44/44 [==============================] - 39s 891ms/step - loss: 0.3513 - accuracy: 0.8752\n",
            "Epoch 47/60\n",
            "44/44 [==============================] - 39s 887ms/step - loss: 0.4344 - accuracy: 0.8432\n",
            "Epoch 48/60\n",
            "44/44 [==============================] - 39s 916ms/step - loss: 0.4995 - accuracy: 0.8169\n",
            "Epoch 49/60\n",
            "44/44 [==============================] - 39s 894ms/step - loss: 0.3742 - accuracy: 0.8664\n",
            "Epoch 50/60\n",
            "44/44 [==============================] - 39s 892ms/step - loss: 0.3901 - accuracy: 0.8592\n",
            "Epoch 51/60\n",
            "44/44 [==============================] - 40s 898ms/step - loss: 0.3499 - accuracy: 0.8764\n",
            "Epoch 52/60\n",
            "44/44 [==============================] - 40s 909ms/step - loss: 0.3418 - accuracy: 0.8783\n",
            "Epoch 53/60\n",
            "44/44 [==============================] - 40s 904ms/step - loss: 0.3641 - accuracy: 0.8678\n",
            "Epoch 54/60\n",
            "44/44 [==============================] - 40s 905ms/step - loss: 0.3593 - accuracy: 0.8711\n",
            "Epoch 55/60\n",
            "44/44 [==============================] - 40s 905ms/step - loss: 0.3651 - accuracy: 0.8690\n",
            "Epoch 56/60\n",
            "44/44 [==============================] - 40s 902ms/step - loss: 0.3533 - accuracy: 0.8711\n",
            "Epoch 57/60\n",
            "44/44 [==============================] - 40s 897ms/step - loss: 0.3876 - accuracy: 0.8580\n",
            "Epoch 58/60\n",
            "44/44 [==============================] - 40s 914ms/step - loss: 0.3590 - accuracy: 0.8690\n",
            "Epoch 59/60\n",
            "44/44 [==============================] - 40s 902ms/step - loss: 0.3564 - accuracy: 0.8776\n",
            "Epoch 60/60\n",
            "44/44 [==============================] - 39s 893ms/step - loss: 0.2855 - accuracy: 0.8971\n",
            "Modelo entrenado!\n"
          ]
        }
      ]
    },
    {
      "cell_type": "code",
      "metadata": {
        "id": "hJ_nZF5L95SD",
        "colab": {
          "base_uri": "https://localhost:8080/"
        },
        "outputId": "4bfcc439-a2fe-4596-ad70-bd539a709faf"
      },
      "source": [
        "from google.colab import drive\n",
        "drive.mount('/content/drive')"
      ],
      "execution_count": null,
      "outputs": [
        {
          "output_type": "stream",
          "name": "stdout",
          "text": [
            "Drive already mounted at /content/drive; to attempt to forcibly remount, call drive.mount(\"/content/drive\", force_remount=True).\n"
          ]
        }
      ]
    },
    {
      "cell_type": "code",
      "metadata": {
        "id": "W6aK5pBaeNBd"
      },
      "source": [
        "#Exportar el modelo en formato h5\n",
        "modelo.save('objetos-prohibidos.h5')"
      ],
      "execution_count": null,
      "outputs": []
    },
    {
      "cell_type": "code",
      "metadata": {
        "id": "uAHnDcF9WuQP",
        "colab": {
          "base_uri": "https://localhost:8080/"
        },
        "outputId": "5c3bf5e1-4dee-41d4-a2a7-756b08de880b"
      },
      "source": [
        "#El equipo es Linux. Listemos el contenido de la carpeta actual para ver que se exporto el modelo\n",
        "!ls"
      ],
      "execution_count": null,
      "outputs": [
        {
          "output_type": "stream",
          "name": "stdout",
          "text": [
            "drive  objetos-prohibidos.h5  sample_data\n"
          ]
        }
      ]
    },
    {
      "cell_type": "code",
      "metadata": {
        "id": "UzpZjGgUWuN7",
        "colab": {
          "base_uri": "https://localhost:8080/"
        },
        "outputId": "f1a3083d-00eb-4a93-b80f-eadf3f8c4afc"
      },
      "source": [
        "#Para convertirlo a tensorflow.js, primero debemos instalar la libreria\n",
        "!pip install tensorflowjs"
      ],
      "execution_count": null,
      "outputs": [
        {
          "output_type": "stream",
          "name": "stdout",
          "text": [
            "Collecting tensorflowjs\n",
            "  Downloading tensorflowjs-3.9.0-py3-none-any.whl (64 kB)\n",
            "\u001b[?25l\r\u001b[K     |█████                           | 10 kB 24.0 MB/s eta 0:00:01\r\u001b[K     |██████████▏                     | 20 kB 25.7 MB/s eta 0:00:01\r\u001b[K     |███████████████▏                | 30 kB 12.0 MB/s eta 0:00:01\r\u001b[K     |████████████████████▎           | 40 kB 9.2 MB/s eta 0:00:01\r\u001b[K     |█████████████████████████▎      | 51 kB 5.3 MB/s eta 0:00:01\r\u001b[K     |██████████████████████████████▍ | 61 kB 5.8 MB/s eta 0:00:01\r\u001b[K     |████████████████████████████████| 64 kB 2.1 MB/s \n",
            "\u001b[?25hRequirement already satisfied: tensorflow-hub<0.13,>=0.7.0 in /usr/local/lib/python3.7/dist-packages (from tensorflowjs) (0.12.0)\n",
            "Requirement already satisfied: six<2,>=1.12.0 in /usr/local/lib/python3.7/dist-packages (from tensorflowjs) (1.15.0)\n",
            "Requirement already satisfied: tensorflow<3,>=2.1.0 in /usr/local/lib/python3.7/dist-packages (from tensorflowjs) (2.6.0)\n",
            "Requirement already satisfied: tensorflow-estimator~=2.6 in /usr/local/lib/python3.7/dist-packages (from tensorflow<3,>=2.1.0->tensorflowjs) (2.6.0)\n",
            "Requirement already satisfied: absl-py~=0.10 in /usr/local/lib/python3.7/dist-packages (from tensorflow<3,>=2.1.0->tensorflowjs) (0.12.0)\n",
            "Requirement already satisfied: h5py~=3.1.0 in /usr/local/lib/python3.7/dist-packages (from tensorflow<3,>=2.1.0->tensorflowjs) (3.1.0)\n",
            "Requirement already satisfied: protobuf>=3.9.2 in /usr/local/lib/python3.7/dist-packages (from tensorflow<3,>=2.1.0->tensorflowjs) (3.17.3)\n",
            "Requirement already satisfied: wheel~=0.35 in /usr/local/lib/python3.7/dist-packages (from tensorflow<3,>=2.1.0->tensorflowjs) (0.37.0)\n",
            "Requirement already satisfied: numpy~=1.19.2 in /usr/local/lib/python3.7/dist-packages (from tensorflow<3,>=2.1.0->tensorflowjs) (1.19.5)\n",
            "Requirement already satisfied: termcolor~=1.1.0 in /usr/local/lib/python3.7/dist-packages (from tensorflow<3,>=2.1.0->tensorflowjs) (1.1.0)\n",
            "Requirement already satisfied: opt-einsum~=3.3.0 in /usr/local/lib/python3.7/dist-packages (from tensorflow<3,>=2.1.0->tensorflowjs) (3.3.0)\n",
            "Requirement already satisfied: wrapt~=1.12.1 in /usr/local/lib/python3.7/dist-packages (from tensorflow<3,>=2.1.0->tensorflowjs) (1.12.1)\n",
            "Requirement already satisfied: gast==0.4.0 in /usr/local/lib/python3.7/dist-packages (from tensorflow<3,>=2.1.0->tensorflowjs) (0.4.0)\n",
            "Requirement already satisfied: tensorboard~=2.6 in /usr/local/lib/python3.7/dist-packages (from tensorflow<3,>=2.1.0->tensorflowjs) (2.6.0)\n",
            "Requirement already satisfied: grpcio<2.0,>=1.37.0 in /usr/local/lib/python3.7/dist-packages (from tensorflow<3,>=2.1.0->tensorflowjs) (1.39.0)\n",
            "Requirement already satisfied: google-pasta~=0.2 in /usr/local/lib/python3.7/dist-packages (from tensorflow<3,>=2.1.0->tensorflowjs) (0.2.0)\n",
            "Requirement already satisfied: keras~=2.6 in /usr/local/lib/python3.7/dist-packages (from tensorflow<3,>=2.1.0->tensorflowjs) (2.6.0)\n",
            "Requirement already satisfied: keras-preprocessing~=1.1.2 in /usr/local/lib/python3.7/dist-packages (from tensorflow<3,>=2.1.0->tensorflowjs) (1.1.2)\n",
            "Requirement already satisfied: astunparse~=1.6.3 in /usr/local/lib/python3.7/dist-packages (from tensorflow<3,>=2.1.0->tensorflowjs) (1.6.3)\n",
            "Requirement already satisfied: typing-extensions~=3.7.4 in /usr/local/lib/python3.7/dist-packages (from tensorflow<3,>=2.1.0->tensorflowjs) (3.7.4.3)\n",
            "Requirement already satisfied: clang~=5.0 in /usr/local/lib/python3.7/dist-packages (from tensorflow<3,>=2.1.0->tensorflowjs) (5.0)\n",
            "Requirement already satisfied: flatbuffers~=1.12.0 in /usr/local/lib/python3.7/dist-packages (from tensorflow<3,>=2.1.0->tensorflowjs) (1.12)\n",
            "Requirement already satisfied: cached-property in /usr/local/lib/python3.7/dist-packages (from h5py~=3.1.0->tensorflow<3,>=2.1.0->tensorflowjs) (1.5.2)\n",
            "Requirement already satisfied: setuptools>=41.0.0 in /usr/local/lib/python3.7/dist-packages (from tensorboard~=2.6->tensorflow<3,>=2.1.0->tensorflowjs) (57.4.0)\n",
            "Requirement already satisfied: google-auth-oauthlib<0.5,>=0.4.1 in /usr/local/lib/python3.7/dist-packages (from tensorboard~=2.6->tensorflow<3,>=2.1.0->tensorflowjs) (0.4.5)\n",
            "Requirement already satisfied: requests<3,>=2.21.0 in /usr/local/lib/python3.7/dist-packages (from tensorboard~=2.6->tensorflow<3,>=2.1.0->tensorflowjs) (2.23.0)\n",
            "Requirement already satisfied: werkzeug>=0.11.15 in /usr/local/lib/python3.7/dist-packages (from tensorboard~=2.6->tensorflow<3,>=2.1.0->tensorflowjs) (1.0.1)\n",
            "Requirement already satisfied: tensorboard-data-server<0.7.0,>=0.6.0 in /usr/local/lib/python3.7/dist-packages (from tensorboard~=2.6->tensorflow<3,>=2.1.0->tensorflowjs) (0.6.1)\n",
            "Requirement already satisfied: markdown>=2.6.8 in /usr/local/lib/python3.7/dist-packages (from tensorboard~=2.6->tensorflow<3,>=2.1.0->tensorflowjs) (3.3.4)\n",
            "Requirement already satisfied: google-auth<2,>=1.6.3 in /usr/local/lib/python3.7/dist-packages (from tensorboard~=2.6->tensorflow<3,>=2.1.0->tensorflowjs) (1.34.0)\n",
            "Requirement already satisfied: tensorboard-plugin-wit>=1.6.0 in /usr/local/lib/python3.7/dist-packages (from tensorboard~=2.6->tensorflow<3,>=2.1.0->tensorflowjs) (1.8.0)\n",
            "Requirement already satisfied: pyasn1-modules>=0.2.1 in /usr/local/lib/python3.7/dist-packages (from google-auth<2,>=1.6.3->tensorboard~=2.6->tensorflow<3,>=2.1.0->tensorflowjs) (0.2.8)\n",
            "Requirement already satisfied: cachetools<5.0,>=2.0.0 in /usr/local/lib/python3.7/dist-packages (from google-auth<2,>=1.6.3->tensorboard~=2.6->tensorflow<3,>=2.1.0->tensorflowjs) (4.2.2)\n",
            "Requirement already satisfied: rsa<5,>=3.1.4 in /usr/local/lib/python3.7/dist-packages (from google-auth<2,>=1.6.3->tensorboard~=2.6->tensorflow<3,>=2.1.0->tensorflowjs) (4.7.2)\n",
            "Requirement already satisfied: requests-oauthlib>=0.7.0 in /usr/local/lib/python3.7/dist-packages (from google-auth-oauthlib<0.5,>=0.4.1->tensorboard~=2.6->tensorflow<3,>=2.1.0->tensorflowjs) (1.3.0)\n",
            "Requirement already satisfied: importlib-metadata in /usr/local/lib/python3.7/dist-packages (from markdown>=2.6.8->tensorboard~=2.6->tensorflow<3,>=2.1.0->tensorflowjs) (4.6.4)\n",
            "Requirement already satisfied: pyasn1<0.5.0,>=0.4.6 in /usr/local/lib/python3.7/dist-packages (from pyasn1-modules>=0.2.1->google-auth<2,>=1.6.3->tensorboard~=2.6->tensorflow<3,>=2.1.0->tensorflowjs) (0.4.8)\n",
            "Requirement already satisfied: certifi>=2017.4.17 in /usr/local/lib/python3.7/dist-packages (from requests<3,>=2.21.0->tensorboard~=2.6->tensorflow<3,>=2.1.0->tensorflowjs) (2021.5.30)\n",
            "Requirement already satisfied: idna<3,>=2.5 in /usr/local/lib/python3.7/dist-packages (from requests<3,>=2.21.0->tensorboard~=2.6->tensorflow<3,>=2.1.0->tensorflowjs) (2.10)\n",
            "Requirement already satisfied: chardet<4,>=3.0.2 in /usr/local/lib/python3.7/dist-packages (from requests<3,>=2.21.0->tensorboard~=2.6->tensorflow<3,>=2.1.0->tensorflowjs) (3.0.4)\n",
            "Requirement already satisfied: urllib3!=1.25.0,!=1.25.1,<1.26,>=1.21.1 in /usr/local/lib/python3.7/dist-packages (from requests<3,>=2.21.0->tensorboard~=2.6->tensorflow<3,>=2.1.0->tensorflowjs) (1.24.3)\n",
            "Requirement already satisfied: oauthlib>=3.0.0 in /usr/local/lib/python3.7/dist-packages (from requests-oauthlib>=0.7.0->google-auth-oauthlib<0.5,>=0.4.1->tensorboard~=2.6->tensorflow<3,>=2.1.0->tensorflowjs) (3.1.1)\n",
            "Requirement already satisfied: zipp>=0.5 in /usr/local/lib/python3.7/dist-packages (from importlib-metadata->markdown>=2.6.8->tensorboard~=2.6->tensorflow<3,>=2.1.0->tensorflowjs) (3.5.0)\n",
            "Installing collected packages: tensorflowjs\n",
            "Successfully installed tensorflowjs-3.9.0\n"
          ]
        }
      ]
    },
    {
      "cell_type": "code",
      "metadata": {
        "id": "2v5uaQ_BWuLL"
      },
      "source": [
        "#Crear carpeta donde se colocaran los archivos resultantes\n",
        "!mkdir carpeta_salida"
      ],
      "execution_count": null,
      "outputs": []
    },
    {
      "cell_type": "code",
      "metadata": {
        "id": "T_rtgd1_WuGk"
      },
      "source": [
        "#Realizar la exportacion a la carpeta de salida\n",
        "!tensorflowjs_converter --input_format keras objetos-prohibidos.h5 carpeta_salida"
      ],
      "execution_count": null,
      "outputs": []
    },
    {
      "cell_type": "code",
      "metadata": {
        "id": "kd99qwADW4qt",
        "colab": {
          "base_uri": "https://localhost:8080/"
        },
        "outputId": "037cb35f-f422-4b5a-9c69-e09a493e9028"
      },
      "source": [
        "#Confirmar que en la carpeta de salida se hayan generado los archivos. Deben aparecer archivos \"bin\" y \"json\"\n",
        "!ls carpeta_salida"
      ],
      "execution_count": null,
      "outputs": [
        {
          "output_type": "stream",
          "name": "stdout",
          "text": [
            "group1-shard1of1.bin  model.json\n"
          ]
        }
      ]
    },
    {
      "cell_type": "code",
      "metadata": {
        "id": "HeDA6P0CW4oa"
      },
      "source": [
        "#Para descargarlos, da clic del lado izquierdo en el icono de la carpeta\n",
        "#y expande carpeta_salida. En los archivos utiliza los 3 puntos para descargarlos"
      ],
      "execution_count": null,
      "outputs": []
    }
  ]
}